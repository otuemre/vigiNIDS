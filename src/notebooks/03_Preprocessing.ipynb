{
 "cells": [
  {
   "cell_type": "markdown",
   "id": "e91b2d78-5020-44a7-9c13-b21bdf6f20ae",
   "metadata": {},
   "source": [
    "# Preprocessing"
   ]
  },
  {
   "cell_type": "markdown",
   "id": "bba2abbe-2ff7-4cf0-afef-b62e0fe81c3c",
   "metadata": {},
   "source": [
    "**Import Necessary Libraries and Datasets**"
   ]
  },
  {
   "cell_type": "code",
   "execution_count": 1,
   "id": "9fb6df6c-0d5e-44ff-9cfc-9d4905ecab34",
   "metadata": {},
   "outputs": [],
   "source": [
    "# Imports\n",
    "import pandas as pd\n",
    "import numpy as np"
   ]
  },
  {
   "cell_type": "code",
   "execution_count": 2,
   "id": "6011063b-7cdf-4562-a7cb-59003c3bd164",
   "metadata": {},
   "outputs": [],
   "source": [
    "# Import Datasets\n",
    "\n",
    "train_df = pd.read_csv(\"../datasets/UNSW_NB15_scaled_training-set.csv\")\n",
    "test_df = pd.read_csv(\"../datasets/UNSW_NB15_scaled_testing-set.csv\")"
   ]
  },
  {
   "cell_type": "code",
   "execution_count": 3,
   "id": "3e8f307f-b405-42be-8f42-3ccc89fcf05b",
   "metadata": {},
   "outputs": [
    {
     "data": {
      "text/html": [
       "<div>\n",
       "<style scoped>\n",
       "    .dataframe tbody tr th:only-of-type {\n",
       "        vertical-align: middle;\n",
       "    }\n",
       "\n",
       "    .dataframe tbody tr th {\n",
       "        vertical-align: top;\n",
       "    }\n",
       "\n",
       "    .dataframe thead th {\n",
       "        text-align: right;\n",
       "    }\n",
       "</style>\n",
       "<table border=\"1\" class=\"dataframe\">\n",
       "  <thead>\n",
       "    <tr style=\"text-align: right;\">\n",
       "      <th></th>\n",
       "      <th>id</th>\n",
       "      <th>dur</th>\n",
       "      <th>proto</th>\n",
       "      <th>service</th>\n",
       "      <th>state</th>\n",
       "      <th>spkts</th>\n",
       "      <th>dpkts</th>\n",
       "      <th>sbytes</th>\n",
       "      <th>dbytes</th>\n",
       "      <th>rate</th>\n",
       "      <th>...</th>\n",
       "      <th>ct_ftp_cmd</th>\n",
       "      <th>ct_flw_http_mthd</th>\n",
       "      <th>ct_src_ltm</th>\n",
       "      <th>ct_srv_dst</th>\n",
       "      <th>is_sm_ips_ports</th>\n",
       "      <th>attack_cat</th>\n",
       "      <th>sload_dload_product</th>\n",
       "      <th>sload_dload_ratio</th>\n",
       "      <th>sload_dload_sum</th>\n",
       "      <th>label</th>\n",
       "    </tr>\n",
       "  </thead>\n",
       "  <tbody>\n",
       "    <tr>\n",
       "      <th>0</th>\n",
       "      <td>-1.732041</td>\n",
       "      <td>-0.342123</td>\n",
       "      <td>tcp</td>\n",
       "      <td>-</td>\n",
       "      <td>FIN</td>\n",
       "      <td>-0.068307</td>\n",
       "      <td>0.140261</td>\n",
       "      <td>-0.441590</td>\n",
       "      <td>0.334160</td>\n",
       "      <td>-0.852011</td>\n",
       "      <td>...</td>\n",
       "      <td>-0.118590</td>\n",
       "      <td>-0.312637</td>\n",
       "      <td>-1.093992</td>\n",
       "      <td>-1.167162</td>\n",
       "      <td>-0.126508</td>\n",
       "      <td>Normal</td>\n",
       "      <td>-0.238954</td>\n",
       "      <td>-0.388477</td>\n",
       "      <td>-0.393922</td>\n",
       "      <td>0</td>\n",
       "    </tr>\n",
       "    <tr>\n",
       "      <th>1</th>\n",
       "      <td>-1.732021</td>\n",
       "      <td>0.247757</td>\n",
       "      <td>tcp</td>\n",
       "      <td>-</td>\n",
       "      <td>FIN</td>\n",
       "      <td>0.597577</td>\n",
       "      <td>1.463624</td>\n",
       "      <td>0.188354</td>\n",
       "      <td>1.720441</td>\n",
       "      <td>-0.838341</td>\n",
       "      <td>...</td>\n",
       "      <td>-0.118590</td>\n",
       "      <td>-0.312637</td>\n",
       "      <td>-1.093992</td>\n",
       "      <td>0.128233</td>\n",
       "      <td>-0.126508</td>\n",
       "      <td>Normal</td>\n",
       "      <td>-0.237764</td>\n",
       "      <td>-0.388477</td>\n",
       "      <td>-0.391321</td>\n",
       "      <td>0</td>\n",
       "    </tr>\n",
       "    <tr>\n",
       "      <th>2</th>\n",
       "      <td>-1.732001</td>\n",
       "      <td>0.956178</td>\n",
       "      <td>tcp</td>\n",
       "      <td>-</td>\n",
       "      <td>FIN</td>\n",
       "      <td>0.151267</td>\n",
       "      <td>0.928674</td>\n",
       "      <td>-0.234394</td>\n",
       "      <td>1.427966</td>\n",
       "      <td>-1.237125</td>\n",
       "      <td>...</td>\n",
       "      <td>-0.118590</td>\n",
       "      <td>-0.312637</td>\n",
       "      <td>-0.630503</td>\n",
       "      <td>0.128233</td>\n",
       "      <td>-0.126508</td>\n",
       "      <td>Normal</td>\n",
       "      <td>-0.238961</td>\n",
       "      <td>-0.388477</td>\n",
       "      <td>-0.393710</td>\n",
       "      <td>0</td>\n",
       "    </tr>\n",
       "    <tr>\n",
       "      <th>3</th>\n",
       "      <td>-1.731982</td>\n",
       "      <td>0.989886</td>\n",
       "      <td>tcp</td>\n",
       "      <td>ftp</td>\n",
       "      <td>FIN</td>\n",
       "      <td>0.472549</td>\n",
       "      <td>0.755846</td>\n",
       "      <td>0.094296</td>\n",
       "      <td>0.711339</td>\n",
       "      <td>-1.245081</td>\n",
       "      <td>...</td>\n",
       "      <td>7.814915</td>\n",
       "      <td>-0.312637</td>\n",
       "      <td>-0.630503</td>\n",
       "      <td>-1.167162</td>\n",
       "      <td>-0.126508</td>\n",
       "      <td>Normal</td>\n",
       "      <td>-0.238986</td>\n",
       "      <td>-0.388477</td>\n",
       "      <td>-0.394010</td>\n",
       "      <td>0</td>\n",
       "    </tr>\n",
       "    <tr>\n",
       "      <th>4</th>\n",
       "      <td>-1.731962</td>\n",
       "      <td>0.049848</td>\n",
       "      <td>tcp</td>\n",
       "      <td>-</td>\n",
       "      <td>FIN</td>\n",
       "      <td>0.326594</td>\n",
       "      <td>0.357032</td>\n",
       "      <td>-0.003462</td>\n",
       "      <td>0.445572</td>\n",
       "      <td>-1.040160</td>\n",
       "      <td>...</td>\n",
       "      <td>-0.118590</td>\n",
       "      <td>-0.312637</td>\n",
       "      <td>-0.630503</td>\n",
       "      <td>1.930517</td>\n",
       "      <td>-0.126508</td>\n",
       "      <td>Normal</td>\n",
       "      <td>-0.238979</td>\n",
       "      <td>-0.388477</td>\n",
       "      <td>-0.393976</td>\n",
       "      <td>0</td>\n",
       "    </tr>\n",
       "  </tbody>\n",
       "</table>\n",
       "<p>5 rows × 48 columns</p>\n",
       "</div>"
      ],
      "text/plain": [
       "         id       dur proto service state     spkts     dpkts    sbytes  \\\n",
       "0 -1.732041 -0.342123   tcp       -   FIN -0.068307  0.140261 -0.441590   \n",
       "1 -1.732021  0.247757   tcp       -   FIN  0.597577  1.463624  0.188354   \n",
       "2 -1.732001  0.956178   tcp       -   FIN  0.151267  0.928674 -0.234394   \n",
       "3 -1.731982  0.989886   tcp     ftp   FIN  0.472549  0.755846  0.094296   \n",
       "4 -1.731962  0.049848   tcp       -   FIN  0.326594  0.357032 -0.003462   \n",
       "\n",
       "     dbytes      rate  ...  ct_ftp_cmd  ct_flw_http_mthd  ct_src_ltm  \\\n",
       "0  0.334160 -0.852011  ...   -0.118590         -0.312637   -1.093992   \n",
       "1  1.720441 -0.838341  ...   -0.118590         -0.312637   -1.093992   \n",
       "2  1.427966 -1.237125  ...   -0.118590         -0.312637   -0.630503   \n",
       "3  0.711339 -1.245081  ...    7.814915         -0.312637   -0.630503   \n",
       "4  0.445572 -1.040160  ...   -0.118590         -0.312637   -0.630503   \n",
       "\n",
       "   ct_srv_dst  is_sm_ips_ports  attack_cat  sload_dload_product  \\\n",
       "0   -1.167162        -0.126508      Normal            -0.238954   \n",
       "1    0.128233        -0.126508      Normal            -0.237764   \n",
       "2    0.128233        -0.126508      Normal            -0.238961   \n",
       "3   -1.167162        -0.126508      Normal            -0.238986   \n",
       "4    1.930517        -0.126508      Normal            -0.238979   \n",
       "\n",
       "   sload_dload_ratio  sload_dload_sum  label  \n",
       "0          -0.388477        -0.393922      0  \n",
       "1          -0.388477        -0.391321      0  \n",
       "2          -0.388477        -0.393710      0  \n",
       "3          -0.388477        -0.394010      0  \n",
       "4          -0.388477        -0.393976      0  \n",
       "\n",
       "[5 rows x 48 columns]"
      ]
     },
     "execution_count": 3,
     "metadata": {},
     "output_type": "execute_result"
    }
   ],
   "source": [
    "# Validate train_df\n",
    "train_df.head()"
   ]
  },
  {
   "cell_type": "code",
   "execution_count": 4,
   "id": "f5862e44-0b23-4732-a458-dfba2a92eca5",
   "metadata": {},
   "outputs": [
    {
     "data": {
      "text/html": [
       "<div>\n",
       "<style scoped>\n",
       "    .dataframe tbody tr th:only-of-type {\n",
       "        vertical-align: middle;\n",
       "    }\n",
       "\n",
       "    .dataframe tbody tr th {\n",
       "        vertical-align: top;\n",
       "    }\n",
       "\n",
       "    .dataframe thead th {\n",
       "        text-align: right;\n",
       "    }\n",
       "</style>\n",
       "<table border=\"1\" class=\"dataframe\">\n",
       "  <thead>\n",
       "    <tr style=\"text-align: right;\">\n",
       "      <th></th>\n",
       "      <th>id</th>\n",
       "      <th>dur</th>\n",
       "      <th>proto</th>\n",
       "      <th>service</th>\n",
       "      <th>state</th>\n",
       "      <th>spkts</th>\n",
       "      <th>dpkts</th>\n",
       "      <th>sbytes</th>\n",
       "      <th>dbytes</th>\n",
       "      <th>rate</th>\n",
       "      <th>...</th>\n",
       "      <th>ct_ftp_cmd</th>\n",
       "      <th>ct_flw_http_mthd</th>\n",
       "      <th>ct_src_ltm</th>\n",
       "      <th>ct_srv_dst</th>\n",
       "      <th>is_sm_ips_ports</th>\n",
       "      <th>attack_cat</th>\n",
       "      <th>sload_dload_product</th>\n",
       "      <th>sload_dload_ratio</th>\n",
       "      <th>sload_dload_sum</th>\n",
       "      <th>label</th>\n",
       "    </tr>\n",
       "  </thead>\n",
       "  <tbody>\n",
       "    <tr>\n",
       "      <th>0</th>\n",
       "      <td>-1.732041</td>\n",
       "      <td>-0.517278</td>\n",
       "      <td>udp</td>\n",
       "      <td>-</td>\n",
       "      <td>INT</td>\n",
       "      <td>-0.808594</td>\n",
       "      <td>-0.896615</td>\n",
       "      <td>-0.047959</td>\n",
       "      <td>-0.966509</td>\n",
       "      <td>0.857408</td>\n",
       "      <td>...</td>\n",
       "      <td>-0.11859</td>\n",
       "      <td>-0.312637</td>\n",
       "      <td>-1.093992</td>\n",
       "      <td>-0.747899</td>\n",
       "      <td>-0.126508</td>\n",
       "      <td>Normal</td>\n",
       "      <td>-0.238989</td>\n",
       "      <td>0.568615</td>\n",
       "      <td>0.564753</td>\n",
       "      <td>0</td>\n",
       "    </tr>\n",
       "    <tr>\n",
       "      <th>1</th>\n",
       "      <td>-1.732021</td>\n",
       "      <td>-0.517282</td>\n",
       "      <td>udp</td>\n",
       "      <td>-</td>\n",
       "      <td>INT</td>\n",
       "      <td>-0.808594</td>\n",
       "      <td>-0.896615</td>\n",
       "      <td>0.716750</td>\n",
       "      <td>-0.966509</td>\n",
       "      <td>0.934090</td>\n",
       "      <td>...</td>\n",
       "      <td>-0.11859</td>\n",
       "      <td>-0.312637</td>\n",
       "      <td>-1.093992</td>\n",
       "      <td>-0.747899</td>\n",
       "      <td>-0.126508</td>\n",
       "      <td>Normal</td>\n",
       "      <td>-0.238989</td>\n",
       "      <td>4.286514</td>\n",
       "      <td>4.289264</td>\n",
       "      <td>0</td>\n",
       "    </tr>\n",
       "    <tr>\n",
       "      <th>2</th>\n",
       "      <td>-1.732001</td>\n",
       "      <td>-0.517287</td>\n",
       "      <td>udp</td>\n",
       "      <td>-</td>\n",
       "      <td>INT</td>\n",
       "      <td>-0.808594</td>\n",
       "      <td>-0.896615</td>\n",
       "      <td>0.414598</td>\n",
       "      <td>-0.966509</td>\n",
       "      <td>1.047265</td>\n",
       "      <td>...</td>\n",
       "      <td>-0.11859</td>\n",
       "      <td>-0.312637</td>\n",
       "      <td>-1.093992</td>\n",
       "      <td>-0.450427</td>\n",
       "      <td>-0.126508</td>\n",
       "      <td>Normal</td>\n",
       "      <td>-0.238989</td>\n",
       "      <td>4.145362</td>\n",
       "      <td>4.147862</td>\n",
       "      <td>0</td>\n",
       "    </tr>\n",
       "    <tr>\n",
       "      <th>3</th>\n",
       "      <td>-1.731982</td>\n",
       "      <td>-0.517285</td>\n",
       "      <td>udp</td>\n",
       "      <td>-</td>\n",
       "      <td>INT</td>\n",
       "      <td>-0.808594</td>\n",
       "      <td>-0.896615</td>\n",
       "      <td>0.311339</td>\n",
       "      <td>-0.966509</td>\n",
       "      <td>1.003363</td>\n",
       "      <td>...</td>\n",
       "      <td>-0.11859</td>\n",
       "      <td>-0.312637</td>\n",
       "      <td>-0.630503</td>\n",
       "      <td>-0.450427</td>\n",
       "      <td>-0.126508</td>\n",
       "      <td>Normal</td>\n",
       "      <td>-0.238989</td>\n",
       "      <td>2.795399</td>\n",
       "      <td>2.795497</td>\n",
       "      <td>0</td>\n",
       "    </tr>\n",
       "    <tr>\n",
       "      <th>4</th>\n",
       "      <td>-1.731962</td>\n",
       "      <td>-0.517279</td>\n",
       "      <td>udp</td>\n",
       "      <td>-</td>\n",
       "      <td>INT</td>\n",
       "      <td>-0.808594</td>\n",
       "      <td>-0.896615</td>\n",
       "      <td>0.830108</td>\n",
       "      <td>-0.966509</td>\n",
       "      <td>0.880358</td>\n",
       "      <td>...</td>\n",
       "      <td>-0.11859</td>\n",
       "      <td>-0.312637</td>\n",
       "      <td>-0.630503</td>\n",
       "      <td>-0.450427</td>\n",
       "      <td>-0.126508</td>\n",
       "      <td>Normal</td>\n",
       "      <td>-0.238989</td>\n",
       "      <td>4.124137</td>\n",
       "      <td>4.126598</td>\n",
       "      <td>0</td>\n",
       "    </tr>\n",
       "  </tbody>\n",
       "</table>\n",
       "<p>5 rows × 48 columns</p>\n",
       "</div>"
      ],
      "text/plain": [
       "         id       dur proto service state     spkts     dpkts    sbytes  \\\n",
       "0 -1.732041 -0.517278   udp       -   INT -0.808594 -0.896615 -0.047959   \n",
       "1 -1.732021 -0.517282   udp       -   INT -0.808594 -0.896615  0.716750   \n",
       "2 -1.732001 -0.517287   udp       -   INT -0.808594 -0.896615  0.414598   \n",
       "3 -1.731982 -0.517285   udp       -   INT -0.808594 -0.896615  0.311339   \n",
       "4 -1.731962 -0.517279   udp       -   INT -0.808594 -0.896615  0.830108   \n",
       "\n",
       "     dbytes      rate  ...  ct_ftp_cmd  ct_flw_http_mthd  ct_src_ltm  \\\n",
       "0 -0.966509  0.857408  ...    -0.11859         -0.312637   -1.093992   \n",
       "1 -0.966509  0.934090  ...    -0.11859         -0.312637   -1.093992   \n",
       "2 -0.966509  1.047265  ...    -0.11859         -0.312637   -1.093992   \n",
       "3 -0.966509  1.003363  ...    -0.11859         -0.312637   -0.630503   \n",
       "4 -0.966509  0.880358  ...    -0.11859         -0.312637   -0.630503   \n",
       "\n",
       "   ct_srv_dst  is_sm_ips_ports  attack_cat  sload_dload_product  \\\n",
       "0   -0.747899        -0.126508      Normal            -0.238989   \n",
       "1   -0.747899        -0.126508      Normal            -0.238989   \n",
       "2   -0.450427        -0.126508      Normal            -0.238989   \n",
       "3   -0.450427        -0.126508      Normal            -0.238989   \n",
       "4   -0.450427        -0.126508      Normal            -0.238989   \n",
       "\n",
       "   sload_dload_ratio  sload_dload_sum  label  \n",
       "0           0.568615         0.564753      0  \n",
       "1           4.286514         4.289264      0  \n",
       "2           4.145362         4.147862      0  \n",
       "3           2.795399         2.795497      0  \n",
       "4           4.124137         4.126598      0  \n",
       "\n",
       "[5 rows x 48 columns]"
      ]
     },
     "execution_count": 4,
     "metadata": {},
     "output_type": "execute_result"
    }
   ],
   "source": [
    "# Validate test_df\n",
    "test_df.head()"
   ]
  },
  {
   "cell_type": "code",
   "execution_count": 5,
   "id": "0b39ade4-04ed-4d5d-8338-2d62e893aa06",
   "metadata": {},
   "outputs": [
    {
     "data": {
      "text/plain": [
       "Index(['proto', 'service', 'state', 'attack_cat'], dtype='object')"
      ]
     },
     "execution_count": 5,
     "metadata": {},
     "output_type": "execute_result"
    }
   ],
   "source": [
    "# Get Column Names of String Values\n",
    "train_text_columns = train_df.select_dtypes(include=\"object\").columns\n",
    "train_text_columns"
   ]
  },
  {
   "cell_type": "code",
   "execution_count": 6,
   "id": "41131ecc-a238-425e-be94-f482331954bc",
   "metadata": {},
   "outputs": [
    {
     "data": {
      "text/plain": [
       "Index(['proto', 'service', 'state', 'attack_cat'], dtype='object')"
      ]
     },
     "execution_count": 6,
     "metadata": {},
     "output_type": "execute_result"
    }
   ],
   "source": [
    "# Get Column Names of String Values\n",
    "test_text_columns = test_df.select_dtypes(include=\"object\").columns\n",
    "test_text_columns"
   ]
  },
  {
   "cell_type": "code",
   "execution_count": 7,
   "id": "af3e00d3-eee4-4db1-be9e-c402c367e93f",
   "metadata": {},
   "outputs": [],
   "source": [
    "# Import our custom function from ./src/utils/print_unique_values.py\n",
    "import sys\n",
    "import os\n",
    "from pathlib import Path\n",
    "\n",
    "# Get the current notebook's directory\n",
    "notebook_dir = Path.cwd()\n",
    "\n",
    "# Add the src directory to the sys.path\n",
    "sys.path.append(str(notebook_dir.parent))  # Go up one level from notebooks\n",
    "\n",
    "# Import the function\n",
    "from utils.print_unique_values import print_unique_values"
   ]
  },
  {
   "cell_type": "code",
   "execution_count": 8,
   "id": "bce5a7c2-a2f2-4047-9854-82a4f74a37bc",
   "metadata": {},
   "outputs": [
    {
     "name": "stdout",
     "output_type": "stream",
     "text": [
      "Unique values in 'proto':\n",
      "['tcp' 'udp' 'arp' 'ospf' 'icmp' 'igmp' 'rtp' 'ddp' 'ipv6-frag' 'cftp'\n",
      " 'wsn' 'pvp' 'wb-expak' 'mtp' 'pri-enc' 'sat-mon' 'cphb' 'sun-nd' 'iso-ip'\n",
      " 'xtp' 'il' 'unas' 'mfe-nsp' '3pc' 'ipv6-route' 'idrp' 'bna' 'swipe'\n",
      " 'kryptolan' 'cpnx' 'rsvp' 'wb-mon' 'vmtp' 'ib' 'dgp' 'eigrp' 'ax.25'\n",
      " 'gmtp' 'pnni' 'sep' 'pgm' 'idpr-cmtp' 'zero' 'rvd' 'mobile' 'narp' 'fc'\n",
      " 'pipe' 'ipcomp' 'ipv6-no' 'sat-expak' 'ipv6-opts' 'snp' 'ipcv'\n",
      " 'br-sat-mon' 'ttp' 'tcf' 'nsfnet-igp' 'sprite-rpc' 'aes-sp3-d' 'sccopmce'\n",
      " 'sctp' 'qnx' 'scps' 'etherip' 'aris' 'pim' 'compaq-peer' 'vrrp' 'iatp'\n",
      " 'stp' 'l2tp' 'srp' 'sm' 'isis' 'smp' 'fire' 'ptp' 'crtp' 'sps'\n",
      " 'merit-inp' 'idpr' 'skip' 'any' 'larp' 'ipip' 'micp' 'encap' 'ifmp'\n",
      " 'tp++' 'a/n' 'ipv6' 'i-nlsp' 'ipx-n-ip' 'sdrp' 'tlsp' 'gre' 'mhrp' 'ddx'\n",
      " 'ippc' 'visa' 'secure-vmtp' 'uti' 'vines' 'crudp' 'iplt' 'ggp' 'ip'\n",
      " 'ipnip' 'st2' 'argus' 'bbn-rcc' 'egp' 'emcon' 'igp' 'nvp' 'pup' 'xnet'\n",
      " 'chaos' 'mux' 'dcn' 'hmp' 'prm' 'trunk-1' 'xns-idp' 'leaf-1' 'leaf-2'\n",
      " 'rdp' 'irtp' 'iso-tp4' 'netblt' 'trunk-2' 'cbt']\n",
      "\n",
      "\n",
      "Unique values in 'service':\n",
      "['-' 'ftp' 'smtp' 'snmp' 'http' 'ftp-data' 'dns' 'ssh' 'radius' 'pop3'\n",
      " 'dhcp' 'ssl' 'irc']\n",
      "\n",
      "\n",
      "Unique values in 'state':\n",
      "['FIN' 'INT' 'CON' 'ECO' 'REQ' 'RST' 'PAR' 'URN' 'no']\n",
      "\n",
      "\n",
      "Unique values in 'attack_cat':\n",
      "['Normal' 'Backdoor' 'Analysis' 'Fuzzers' 'Shellcode' 'Reconnaissance'\n",
      " 'Exploits' 'DoS' 'Worms' 'Generic']\n",
      "\n",
      "\n"
     ]
    }
   ],
   "source": [
    "# Print and assign dict for train_df\n",
    "train_unique_vals = print_unique_values(train_text_columns, train_df, return_dict=True)"
   ]
  },
  {
   "cell_type": "code",
   "execution_count": 9,
   "id": "341f89bc-31c8-477a-af11-9035cb1a754a",
   "metadata": {},
   "outputs": [
    {
     "name": "stdout",
     "output_type": "stream",
     "text": [
      "Unique values in 'proto':\n",
      "['udp' 'arp' 'tcp' 'igmp' 'ospf' 'sctp' 'gre' 'ggp' 'ip' 'ipnip' 'st2'\n",
      " 'argus' 'chaos' 'egp' 'emcon' 'nvp' 'pup' 'xnet' 'mux' 'dcn' 'hmp' 'prm'\n",
      " 'trunk-1' 'trunk-2' 'xns-idp' 'leaf-1' 'leaf-2' 'irtp' 'rdp' 'netblt'\n",
      " 'mfe-nsp' 'merit-inp' '3pc' 'idpr' 'ddp' 'idpr-cmtp' 'tp++' 'ipv6' 'sdrp'\n",
      " 'ipv6-frag' 'ipv6-route' 'idrp' 'mhrp' 'i-nlsp' 'rvd' 'mobile' 'narp'\n",
      " 'skip' 'tlsp' 'ipv6-no' 'any' 'ipv6-opts' 'cftp' 'sat-expak' 'ippc'\n",
      " 'kryptolan' 'sat-mon' 'cpnx' 'wsn' 'pvp' 'br-sat-mon' 'sun-nd' 'wb-mon'\n",
      " 'vmtp' 'ttp' 'vines' 'nsfnet-igp' 'dgp' 'eigrp' 'tcf' 'sprite-rpc' 'larp'\n",
      " 'mtp' 'ax.25' 'ipip' 'aes-sp3-d' 'micp' 'encap' 'pri-enc' 'gmtp' 'ifmp'\n",
      " 'pnni' 'qnx' 'scps' 'cbt' 'bbn-rcc' 'igp' 'bna' 'swipe' 'visa' 'ipcv'\n",
      " 'cphb' 'iso-tp4' 'wb-expak' 'sep' 'secure-vmtp' 'xtp' 'il' 'rsvp' 'unas'\n",
      " 'fc' 'iso-ip' 'etherip' 'pim' 'aris' 'a/n' 'ipcomp' 'snp' 'compaq-peer'\n",
      " 'ipx-n-ip' 'pgm' 'vrrp' 'l2tp' 'zero' 'ddx' 'iatp' 'stp' 'srp' 'uti' 'sm'\n",
      " 'smp' 'isis' 'ptp' 'fire' 'crtp' 'crudp' 'sccopmce' 'iplt' 'pipe' 'sps'\n",
      " 'ib']\n",
      "\n",
      "\n",
      "Unique values in 'service':\n",
      "['-' 'http' 'ftp' 'ftp-data' 'smtp' 'pop3' 'dns' 'snmp' 'ssl' 'dhcp' 'irc'\n",
      " 'radius' 'ssh']\n",
      "\n",
      "\n",
      "Unique values in 'state':\n",
      "['INT' 'FIN' 'REQ' 'ACC' 'CON' 'RST' 'CLO']\n",
      "\n",
      "\n",
      "Unique values in 'attack_cat':\n",
      "['Normal' 'Reconnaissance' 'Backdoor' 'DoS' 'Exploits' 'Analysis'\n",
      " 'Fuzzers' 'Worms' 'Shellcode' 'Generic']\n",
      "\n",
      "\n"
     ]
    }
   ],
   "source": [
    "# Print and assign dict for test_df\n",
    "test_unique_vals = print_unique_values(test_text_columns, test_df, return_dict=True)"
   ]
  },
  {
   "cell_type": "markdown",
   "id": "ffbaa99c-dbcd-4d4d-98dd-bc2a2a186cce",
   "metadata": {},
   "source": [
    "**Insight**: Based on the analysis, the features `proto` and `attack_cat` will be encoded using Ordinal Encoding due to their larger number of unique values, ensuring the dataset remains compact. For `service` and `state`, One-Hot Encoding is suitable given the smaller number of categories, preserving interpretability without adding excessive complexity. These encoding strategies will standardize the dataset for efficient model training."
   ]
  },
  {
   "cell_type": "code",
   "execution_count": 10,
   "id": "65357401-37f4-43c0-97b7-550af3c95d03",
   "metadata": {},
   "outputs": [],
   "source": [
    "# Import Encoding Functions\n",
    "from utils.encoding import ordinal_encode, one_hot_encode"
   ]
  },
  {
   "cell_type": "markdown",
   "id": "f067a346-36a1-47f7-9065-3a88099f1f3b",
   "metadata": {},
   "source": [
    "As there are different unique values in `train_df` and `test_df`, we need to find a way to make sure they are match and in the same order."
   ]
  },
  {
   "cell_type": "code",
   "execution_count": 11,
   "id": "2c871dbf-3f1d-40c3-afbc-c4da456c9db0",
   "metadata": {},
   "outputs": [],
   "source": [
    "# Union of unique values across train and test\n",
    "proto_mapping = {value: idx for idx, value in enumerate(set(train_df[\"proto\"]).union(set(test_df[\"proto\"])))}\n",
    "attack_cat_mapping = {value: idx for idx, value in enumerate(set(train_df[\"attack_cat\"]).union(set(test_df[\"attack_cat\"])))}\n",
    "\n",
    "# Union of unique values across train and test for alignment\n",
    "service_categories = list(set(train_df[\"service\"]).union(set(test_df[\"service\"])))\n",
    "state_categories = list(set(train_df[\"state\"]).union(set(test_df[\"state\"])))"
   ]
  },
  {
   "cell_type": "code",
   "execution_count": 12,
   "id": "50313a03-97eb-4104-a24b-9e1392560eeb",
   "metadata": {},
   "outputs": [],
   "source": [
    "# Ordinal Encoding for 'proto' and 'attack_cat'\n",
    "train_df = ordinal_encode(train_df, \"proto\", proto_mapping)\n",
    "train_df = ordinal_encode(train_df, \"attack_cat\", attack_cat_mapping)\n",
    "\n",
    "# One-Hot Encoding for 'service' and 'state'\n",
    "train_df = one_hot_encode(train_df, [\"service\", \"state\"])"
   ]
  },
  {
   "cell_type": "code",
   "execution_count": 13,
   "id": "81ec0e2c-7f7c-4d12-a740-754dcef6590f",
   "metadata": {},
   "outputs": [],
   "source": [
    "# Ordinal Encoding for 'proto' and 'attack_cat'\n",
    "test_df = ordinal_encode(test_df, \"proto\", proto_mapping)\n",
    "test_df = ordinal_encode(test_df, \"attack_cat\", attack_cat_mapping)\n",
    "\n",
    "# One-Hot Encoding for 'service' and 'state'\n",
    "test_df = one_hot_encode(test_df, [\"service\", \"state\"])"
   ]
  },
  {
   "cell_type": "code",
   "execution_count": 14,
   "id": "0bc2de6e-1f3d-4234-bc31-83a906b52af9",
   "metadata": {},
   "outputs": [],
   "source": [
    "# Align train_df and test_df to ensure they have the same columns\n",
    "train_df, test_df = train_df.align(test_df, join=\"outer\", axis=1, fill_value=0)"
   ]
  },
  {
   "cell_type": "code",
   "execution_count": 15,
   "id": "a1363823-57d3-4841-acde-ae68ec76eab7",
   "metadata": {},
   "outputs": [
    {
     "data": {
      "text/plain": [
       "Index([], dtype='object')"
      ]
     },
     "execution_count": 15,
     "metadata": {},
     "output_type": "execute_result"
    }
   ],
   "source": [
    "# Validate if Encoding is Successful\n",
    "train_df.select_dtypes(include=\"object\").columns"
   ]
  },
  {
   "cell_type": "code",
   "execution_count": 16,
   "id": "f01764d8-0694-4eee-8703-9a02a84ebe43",
   "metadata": {},
   "outputs": [
    {
     "data": {
      "text/plain": [
       "68"
      ]
     },
     "execution_count": 16,
     "metadata": {},
     "output_type": "execute_result"
    }
   ],
   "source": [
    "len(train_df.columns)"
   ]
  },
  {
   "cell_type": "code",
   "execution_count": 17,
   "id": "8b102854-988d-493b-bc88-872b7ea67a81",
   "metadata": {},
   "outputs": [
    {
     "data": {
      "text/plain": [
       "Index([], dtype='object')"
      ]
     },
     "execution_count": 17,
     "metadata": {},
     "output_type": "execute_result"
    }
   ],
   "source": [
    "# Validate if Encoding is Successful\n",
    "test_df.select_dtypes(include=\"object\").columns"
   ]
  },
  {
   "cell_type": "code",
   "execution_count": 18,
   "id": "db01ee07-c17f-4788-8733-8fba4d326c61",
   "metadata": {},
   "outputs": [
    {
     "data": {
      "text/plain": [
       "68"
      ]
     },
     "execution_count": 18,
     "metadata": {},
     "output_type": "execute_result"
    }
   ],
   "source": [
    "len(test_df.columns)"
   ]
  },
  {
   "cell_type": "code",
   "execution_count": 19,
   "id": "a24f5ce7-e97a-4e7a-a90e-04ea97b91fc4",
   "metadata": {},
   "outputs": [
    {
     "name": "stdout",
     "output_type": "stream",
     "text": [
      "Columns in train_df but not in test_df: set()\n",
      "Columns in test_df but not in train_df: set()\n"
     ]
    }
   ],
   "source": [
    "# Columns in train_df but not in test_df\n",
    "missing_in_test = set(train_df.columns) - set(test_df.columns)\n",
    "\n",
    "# Columns in test_df but not in train_df\n",
    "missing_in_train = set(test_df.columns) - set(train_df.columns)\n",
    "\n",
    "# Print the differences\n",
    "print(\"Columns in train_df but not in test_df:\", missing_in_test)\n",
    "print(\"Columns in test_df but not in train_df:\", missing_in_train)"
   ]
  },
  {
   "cell_type": "markdown",
   "id": "7a7755d9-da35-4749-a9b4-ab09aaa698cc",
   "metadata": {},
   "source": [
    "**Insight**: The encoding process was successfully completed, ensuring all categorical features were transformed into numerical representations. Ordinal Encoding was applied to `proto` and `attack_cat`, while One-Hot Encoding was used for `service` and `state`. The datasets were then aligned to ensure consistent columns between `train_df` and `test_df`, addressing any discrepancies in unique values."
   ]
  },
  {
   "cell_type": "code",
   "execution_count": 20,
   "id": "9e39e6f8-e8b6-4a33-85fb-bab6b0cf1c1c",
   "metadata": {},
   "outputs": [],
   "source": [
    "# Save encoded DataFrames\n",
    "train_df.to_csv(\"../datasets/UNSW_NB15_preprocessed_training-set.csv\", index=False)\n",
    "test_df.to_csv(\"../datasets/UNSW_NB15_preprocessed_testing-set.csv\", index=False)"
   ]
  },
  {
   "cell_type": "markdown",
   "id": "74caf481-6498-4966-9462-7025eac4bb5d",
   "metadata": {},
   "source": [
    "The encoded datasets are saved and now ready for scaling and further preprocessing steps."
   ]
  }
 ],
 "metadata": {
  "kernelspec": {
   "display_name": "Python 3 (ipykernel)",
   "language": "python",
   "name": "python3"
  },
  "language_info": {
   "codemirror_mode": {
    "name": "ipython",
    "version": 3
   },
   "file_extension": ".py",
   "mimetype": "text/x-python",
   "name": "python",
   "nbconvert_exporter": "python",
   "pygments_lexer": "ipython3",
   "version": "3.12.7"
  }
 },
 "nbformat": 4,
 "nbformat_minor": 5
}
